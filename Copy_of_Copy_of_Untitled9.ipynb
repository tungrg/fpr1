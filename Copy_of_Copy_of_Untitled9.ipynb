{
  "nbformat": 4,
  "nbformat_minor": 0,
  "metadata": {
    "colab": {
      "name": "Copy of Copy of Untitled9.ipynb",
      "provenance": [],
      "collapsed_sections": [],
      "toc_visible": true
    },
    "kernelspec": {
      "name": "python3",
      "display_name": "Python 3"
    },
    "language_info": {
      "name": "python"
    }
  },
  "cells": [
    {
      "cell_type": "code",
      "metadata": {
        "colab": {
          "base_uri": "https://localhost:8080/",
          "height": 743
        },
        "id": "cAvKglytq-Y0",
        "outputId": "c6ac87c0-8e8e-43eb-f1a6-b9a0c15eb081"
      },
      "source": [
        "!pip install fingerprint-enhancer\n",
        "!pip install pyeer"
      ],
      "execution_count": null,
      "outputs": [
        {
          "output_type": "stream",
          "text": [
            "Collecting fingerprint-enhancer\n",
            "  Downloading https://files.pythonhosted.org/packages/ce/51/c87fac7a721dd068f2ef0a9dd58bb5b7aa26854d364a593df34246d34524/fingerprint_enhancer-0.0.11.tar.gz\n",
            "Collecting numpy==1.19.0\n",
            "\u001b[?25l  Downloading https://files.pythonhosted.org/packages/a8/31/e2c3eda7afe7dab08e1f24767b8e38ff2f30dc82bd74aa3a5324c550366a/numpy-1.19.0-cp37-cp37m-manylinux2010_x86_64.whl (14.6MB)\n",
            "\u001b[K     |████████████████████████████████| 14.6MB 268kB/s \n",
            "\u001b[?25hRequirement already satisfied: opencv-python in /usr/local/lib/python3.7/dist-packages (from fingerprint-enhancer) (4.1.2.30)\n",
            "Requirement already satisfied: scipy in /usr/local/lib/python3.7/dist-packages (from fingerprint-enhancer) (1.4.1)\n",
            "Building wheels for collected packages: fingerprint-enhancer\n",
            "  Building wheel for fingerprint-enhancer (setup.py) ... \u001b[?25l\u001b[?25hdone\n",
            "  Created wheel for fingerprint-enhancer: filename=fingerprint_enhancer-0.0.11-cp37-none-any.whl size=8045 sha256=71a6f1d008c18b46c16ec2c442e3ccd6e38a6d408579ced3c80c4c4370a11729\n",
            "  Stored in directory: /root/.cache/pip/wheels/88/45/5c/3d34ba8efab7e215b7e8cb712752e2aa24ef12cb7e75fc6d22\n",
            "Successfully built fingerprint-enhancer\n",
            "\u001b[31mERROR: tensorflow 2.5.0 has requirement numpy~=1.19.2, but you'll have numpy 1.19.0 which is incompatible.\u001b[0m\n",
            "\u001b[31mERROR: datascience 0.10.6 has requirement folium==0.2.1, but you'll have folium 0.8.3 which is incompatible.\u001b[0m\n",
            "\u001b[31mERROR: albumentations 0.1.12 has requirement imgaug<0.2.7,>=0.2.5, but you'll have imgaug 0.2.9 which is incompatible.\u001b[0m\n",
            "Installing collected packages: numpy, fingerprint-enhancer\n",
            "  Found existing installation: numpy 1.19.5\n",
            "    Uninstalling numpy-1.19.5:\n",
            "      Successfully uninstalled numpy-1.19.5\n",
            "Successfully installed fingerprint-enhancer-0.0.11 numpy-1.19.0\n"
          ],
          "name": "stdout"
        },
        {
          "output_type": "display_data",
          "data": {
            "application/vnd.colab-display-data+json": {
              "pip_warning": {
                "packages": [
                  "numpy"
                ]
              }
            }
          },
          "metadata": {
            "tags": []
          }
        },
        {
          "output_type": "stream",
          "text": [
            "Collecting pyeer\n",
            "\u001b[?25l  Downloading https://files.pythonhosted.org/packages/6e/f6/834fac4b55fdec1a7ec1cb5bdbb1d50c676f69945f08785c7ec042c7aff4/pyeer-0.5.5.tar.gz (605kB)\n",
            "\r\u001b[K     |▌                               | 10kB 14.2MB/s eta 0:00:01\r\u001b[K     |█                               | 20kB 19.7MB/s eta 0:00:01\r\u001b[K     |█▋                              | 30kB 11.1MB/s eta 0:00:01\r\u001b[K     |██▏                             | 40kB 9.1MB/s eta 0:00:01\r\u001b[K     |██▊                             | 51kB 4.9MB/s eta 0:00:01\r\u001b[K     |███▎                            | 61kB 5.2MB/s eta 0:00:01\r\u001b[K     |███▉                            | 71kB 5.8MB/s eta 0:00:01\r\u001b[K     |████▎                           | 81kB 6.5MB/s eta 0:00:01\r\u001b[K     |████▉                           | 92kB 6.6MB/s eta 0:00:01\r\u001b[K     |█████▍                          | 102kB 5.3MB/s eta 0:00:01\r\u001b[K     |██████                          | 112kB 5.3MB/s eta 0:00:01\r\u001b[K     |██████▌                         | 122kB 5.3MB/s eta 0:00:01\r\u001b[K     |███████                         | 133kB 5.3MB/s eta 0:00:01\r\u001b[K     |███████▋                        | 143kB 5.3MB/s eta 0:00:01\r\u001b[K     |████████▏                       | 153kB 5.3MB/s eta 0:00:01\r\u001b[K     |████████▋                       | 163kB 5.3MB/s eta 0:00:01\r\u001b[K     |█████████▏                      | 174kB 5.3MB/s eta 0:00:01\r\u001b[K     |█████████▊                      | 184kB 5.3MB/s eta 0:00:01\r\u001b[K     |██████████▎                     | 194kB 5.3MB/s eta 0:00:01\r\u001b[K     |██████████▉                     | 204kB 5.3MB/s eta 0:00:01\r\u001b[K     |███████████▍                    | 215kB 5.3MB/s eta 0:00:01\r\u001b[K     |████████████                    | 225kB 5.3MB/s eta 0:00:01\r\u001b[K     |████████████▌                   | 235kB 5.3MB/s eta 0:00:01\r\u001b[K     |█████████████                   | 245kB 5.3MB/s eta 0:00:01\r\u001b[K     |█████████████▌                  | 256kB 5.3MB/s eta 0:00:01\r\u001b[K     |██████████████                  | 266kB 5.3MB/s eta 0:00:01\r\u001b[K     |██████████████▋                 | 276kB 5.3MB/s eta 0:00:01\r\u001b[K     |███████████████▏                | 286kB 5.3MB/s eta 0:00:01\r\u001b[K     |███████████████▊                | 296kB 5.3MB/s eta 0:00:01\r\u001b[K     |████████████████▎               | 307kB 5.3MB/s eta 0:00:01\r\u001b[K     |████████████████▉               | 317kB 5.3MB/s eta 0:00:01\r\u001b[K     |█████████████████▎              | 327kB 5.3MB/s eta 0:00:01\r\u001b[K     |█████████████████▉              | 337kB 5.3MB/s eta 0:00:01\r\u001b[K     |██████████████████▍             | 348kB 5.3MB/s eta 0:00:01\r\u001b[K     |███████████████████             | 358kB 5.3MB/s eta 0:00:01\r\u001b[K     |███████████████████▌            | 368kB 5.3MB/s eta 0:00:01\r\u001b[K     |████████████████████            | 378kB 5.3MB/s eta 0:00:01\r\u001b[K     |████████████████████▋           | 389kB 5.3MB/s eta 0:00:01\r\u001b[K     |█████████████████████▏          | 399kB 5.3MB/s eta 0:00:01\r\u001b[K     |█████████████████████▋          | 409kB 5.3MB/s eta 0:00:01\r\u001b[K     |██████████████████████▏         | 419kB 5.3MB/s eta 0:00:01\r\u001b[K     |██████████████████████▊         | 430kB 5.3MB/s eta 0:00:01\r\u001b[K     |███████████████████████▎        | 440kB 5.3MB/s eta 0:00:01\r\u001b[K     |███████████████████████▉        | 450kB 5.3MB/s eta 0:00:01\r\u001b[K     |████████████████████████▍       | 460kB 5.3MB/s eta 0:00:01\r\u001b[K     |█████████████████████████       | 471kB 5.3MB/s eta 0:00:01\r\u001b[K     |█████████████████████████▌      | 481kB 5.3MB/s eta 0:00:01\r\u001b[K     |██████████████████████████      | 491kB 5.3MB/s eta 0:00:01\r\u001b[K     |██████████████████████████▌     | 501kB 5.3MB/s eta 0:00:01\r\u001b[K     |███████████████████████████     | 512kB 5.3MB/s eta 0:00:01\r\u001b[K     |███████████████████████████▋    | 522kB 5.3MB/s eta 0:00:01\r\u001b[K     |████████████████████████████▏   | 532kB 5.3MB/s eta 0:00:01\r\u001b[K     |████████████████████████████▊   | 542kB 5.3MB/s eta 0:00:01\r\u001b[K     |█████████████████████████████▎  | 552kB 5.3MB/s eta 0:00:01\r\u001b[K     |█████████████████████████████▉  | 563kB 5.3MB/s eta 0:00:01\r\u001b[K     |██████████████████████████████▎ | 573kB 5.3MB/s eta 0:00:01\r\u001b[K     |██████████████████████████████▉ | 583kB 5.3MB/s eta 0:00:01\r\u001b[K     |███████████████████████████████▍| 593kB 5.3MB/s eta 0:00:01\r\u001b[K     |████████████████████████████████| 604kB 5.3MB/s eta 0:00:01\r\u001b[K     |████████████████████████████████| 614kB 5.3MB/s \n",
            "\u001b[?25hRequirement already satisfied: numpy in /usr/local/lib/python3.7/dist-packages (from pyeer) (1.19.0)\n",
            "Requirement already satisfied: matplotlib in /usr/local/lib/python3.7/dist-packages (from pyeer) (3.2.2)\n",
            "Requirement already satisfied: pyparsing!=2.0.4,!=2.1.2,!=2.1.6,>=2.0.1 in /usr/local/lib/python3.7/dist-packages (from matplotlib->pyeer) (2.4.7)\n",
            "Requirement already satisfied: python-dateutil>=2.1 in /usr/local/lib/python3.7/dist-packages (from matplotlib->pyeer) (2.8.1)\n",
            "Requirement already satisfied: kiwisolver>=1.0.1 in /usr/local/lib/python3.7/dist-packages (from matplotlib->pyeer) (1.3.1)\n",
            "Requirement already satisfied: cycler>=0.10 in /usr/local/lib/python3.7/dist-packages (from matplotlib->pyeer) (0.10.0)\n",
            "Requirement already satisfied: six>=1.5 in /usr/local/lib/python3.7/dist-packages (from python-dateutil>=2.1->matplotlib->pyeer) (1.15.0)\n",
            "Building wheels for collected packages: pyeer\n",
            "  Building wheel for pyeer (setup.py) ... \u001b[?25l\u001b[?25hdone\n",
            "  Created wheel for pyeer: filename=pyeer-0.5.5-cp37-none-any.whl size=604267 sha256=ad96084a2c232d517335802da6d71740f615d1737cbc1b6625103ea3cbf9efe2\n",
            "  Stored in directory: /root/.cache/pip/wheels/11/84/dc/8c50eb806263b6d79c80864c2ab52d8a8bc6cbbb5a9d224110\n",
            "Successfully built pyeer\n",
            "Installing collected packages: pyeer\n",
            "Successfully installed pyeer-0.5.5\n"
          ],
          "name": "stdout"
        }
      ]
    },
    {
      "cell_type": "code",
      "metadata": {
        "colab": {
          "base_uri": "https://localhost:8080/"
        },
        "id": "fmWlKjxJrAnE",
        "outputId": "c9d98d4d-da3b-4d94-8add-dd96579e1a8a"
      },
      "source": [
        "!git clone https://github.com/tungrg/fpr1.git"
      ],
      "execution_count": null,
      "outputs": [
        {
          "output_type": "stream",
          "text": [
            "Cloning into 'fpr1'...\n",
            "remote: Enumerating objects: 1001, done.\u001b[K\n",
            "remote: Counting objects: 100% (1001/1001), done.\u001b[K\n",
            "remote: Compressing objects: 100% (897/897), done.\u001b[K\n",
            "remote: Total 1001 (delta 99), reused 1001 (delta 99), pack-reused 0\u001b[K\n",
            "Receiving objects: 100% (1001/1001), 75.39 MiB | 28.50 MiB/s, done.\n",
            "Resolving deltas: 100% (99/99), done.\n"
          ],
          "name": "stdout"
        }
      ]
    },
    {
      "cell_type": "code",
      "metadata": {
        "colab": {
          "base_uri": "https://localhost:8080/"
        },
        "id": "jXFg2JW4rGMC",
        "outputId": "41cc5127-7d1a-425f-85fb-0c8775c388d8"
      },
      "source": [
        "%cd fpr1\n",
        "%ls"
      ],
      "execution_count": null,
      "outputs": [
        {
          "output_type": "stream",
          "text": [
            "/content/fpr1\n",
            "\u001b[0m\u001b[01;34mfvc2002\u001b[0m/  \u001b[01;34mfvc2004\u001b[0m/\n"
          ],
          "name": "stdout"
        }
      ]
    },
    {
      "cell_type": "code",
      "metadata": {
        "id": "tzcHf8XarIO0"
      },
      "source": [
        "import cv2\n",
        "import numpy as np\n",
        "import operator\n",
        "from matplotlib import pyplot as plt\n",
        "import glob\n",
        "import fingerprint_enhancer as fe\n",
        "from sklearn.metrics import accuracy_score, precision_score, f1_score\n",
        "from sklearn.model_selection import train_test_split\n",
        "# pyeer library: pip install pyeer\n",
        "from pyeer.eer_info import get_eer_stats\n",
        "from pyeer.report import generate_eer_report, export_error_rates\n",
        "from pyeer.plot import plot_eer_stats"
      ],
      "execution_count": null,
      "outputs": []
    },
    {
      "cell_type": "markdown",
      "metadata": {
        "id": "WtXSiPzErW47"
      },
      "source": [
        "# 1 Load image"
      ]
    },
    {
      "cell_type": "code",
      "metadata": {
        "id": "Fre4WrxUrUA8"
      },
      "source": [
        "def read_images(IMAGES_PATH):\n",
        "  #doc cac anh tu duong dan\n",
        "    file_names = [img for img in glob.glob(IMAGES_PATH + \"/*.tif\")]\n",
        "    #sort lai ten de ty phan lop cho de\n",
        "    file_names.sort()\n",
        "    return file_names"
      ],
      "execution_count": null,
      "outputs": []
    },
    {
      "cell_type": "code",
      "metadata": {
        "id": "wdGbS_kSsKzM"
      },
      "source": [
        "def get_image_label(filename):\n",
        "  #tach ten anh ra\n",
        "    image = filename.split('/')\n",
        "    return image[len(image)-1]"
      ],
      "execution_count": null,
      "outputs": []
    },
    {
      "cell_type": "code",
      "metadata": {
        "id": "DKwvnDTfsS-C"
      },
      "source": [
        "def get_image_class(filename):\n",
        "  #lay class cua anh thuoc ve ngon tay nao\n",
        "    return get_image_label(filename).split('_')[0]"
      ],
      "execution_count": null,
      "outputs": []
    },
    {
      "cell_type": "code",
      "metadata": {
        "id": "nzZYlTq09P_c"
      },
      "source": [
        "# Splits the dataset on training and testing set\n",
        "def split_dataset(data, test_size):\n",
        "    train, test = train_test_split(data, test_size=test_size, random_state=42)\n",
        "    return train, test"
      ],
      "execution_count": null,
      "outputs": []
    },
    {
      "cell_type": "code",
      "metadata": {
        "id": "GGTEfYVL9Ufe"
      },
      "source": [
        "def grayscale_image(image):\n",
        "  #grayscale ảnh lại\n",
        "    if len(image.shape) > 2:\n",
        "        image = cv2.cvtColor(image, cv2.COLOR_BGR2GRAY)\n",
        "    return image"
      ],
      "execution_count": null,
      "outputs": []
    },
    {
      "cell_type": "code",
      "metadata": {
        "id": "PYv900k69XKS"
      },
      "source": [
        "def enhance_image(image):\n",
        "  #enhance dấu vân tay\n",
        "    img_e = fe.enhance_Fingerprint(image)\n",
        "    return cv2.normalize(img_e, None, alpha=0, beta=255, norm_type=cv2.NORM_MINMAX, dtype=0)"
      ],
      "execution_count": null,
      "outputs": []
    },
    {
      "cell_type": "code",
      "metadata": {
        "id": "D6JU-hs-sZ0G"
      },
      "source": [
        "def prepare_dataset(file_names):\n",
        "    #chuẩn bị data_set, train_set là bộ dữ liệu base, valid_set để lấy trọng số, test_set là bộ dữ liệu để kiểm tra\n",
        "    train_set = {}\n",
        "    valid_set = {}\n",
        "    test_set = {}\n",
        "    data = []  # list of tuples\n",
        "    temp_label = get_image_class(file_names[0])  # sets the image class (101)\n",
        "\n",
        "    for filename in file_names:\n",
        "        img = cv2.imread(filename)\n",
        "        gray_img = grayscale_image(img)\n",
        "        img = enhance_image(gray_img)\n",
        "        label = get_image_label(filename)\n",
        "        #print('Processing image {} ...  '.format(label))\n",
        "        if temp_label != get_image_class(filename):\n",
        "            train, test = split_dataset(data, 0.2)\n",
        "            train_real, valid = split_dataset(train, 0.3)\n",
        "            train_set.update(train_real)\n",
        "            valid_set.update(valid)\n",
        "            test_set.update(test)\n",
        "            temp_label = get_image_class(filename)\n",
        "            data = []\n",
        "        data.append((label, img))\n",
        "\n",
        "        if filename == file_names[len(file_names) - 1]:\n",
        "            train, test = split_dataset(data, 0.2)\n",
        "            train_real, valid = split_dataset(train, 0.3)\n",
        "            train_set.update(train_real)\n",
        "            valid_set.update(valid)\n",
        "            test_set.update(test)\n",
        "\n",
        "    print('DONE')\n",
        "    return train_set, valid_set, test_set"
      ],
      "execution_count": null,
      "outputs": []
    },
    {
      "cell_type": "markdown",
      "metadata": {
        "id": "fME0ZHC6xQ9s"
      },
      "source": [
        "# 2 Rut trich dac trung"
      ]
    },
    {
      "cell_type": "code",
      "metadata": {
        "id": "qoUwKwCjxVLc"
      },
      "source": [
        "#khoi tao orb\n",
        "orb = cv2.ORB_create() #bộ rút trích đặc trưng\n",
        "bf = cv2.BFMatcher(cv2.NORM_HAMMING, crossCheck=True) #bộ đối sánh"
      ],
      "execution_count": null,
      "outputs": []
    },
    {
      "cell_type": "code",
      "metadata": {
        "id": "Aw5-Yg2V-mzs"
      },
      "source": [
        "# Rút trích đặc trưng của dataset\n",
        "def get_feature_descriptors(dataset):\n",
        "    feature_descriptors = {}\n",
        "    for image_id, image in dataset.items():\n",
        "        kp, des = orb.detectAndCompute(image, None)\n",
        "        feature_descriptors[image_id] = des\n",
        "    return feature_descriptors"
      ],
      "execution_count": null,
      "outputs": []
    },
    {
      "cell_type": "markdown",
      "metadata": {
        "id": "gCSmWdlm9m1S"
      },
      "source": [
        "# 3 Đối sánh"
      ]
    },
    {
      "cell_type": "code",
      "metadata": {
        "id": "yhX5AuqtEa96"
      },
      "source": [
        "# Đối sánh đặc trưng của của ảnh query và base đặc trưng của những ngón tay đã được rút trích\n",
        "def get_best_matches(query_image, trained_features, distance_threshold): \n",
        "    best_matches_dict = {}\n",
        "    kp1, query_des = orb.detectAndCompute(query_image, None) # rút trích đặc trưng của query\n",
        "    for train_image_id, trained_feature_des in trained_features.items():\n",
        "        if query_des is not None and trained_feature_des is not None:\n",
        "            matches = bf.match(query_des, trained_feature_des)\n",
        "            matches.sort(key=lambda x: x.distance, reverse=False) # sắp xếp lại dựa trên khoảng cách đặc trưng\n",
        "            \n",
        "            best_matches = [m.distance for m in matches if m.distance < distance_threshold] #chỉ giữ lại những đặc trưng dưới  threshold\n",
        "            best_matches_dict[train_image_id] = len(best_matches) # lấy tổng số đặc trưng\n",
        "    \n",
        "    best_matches_dict = sorted(best_matches_dict.items(), key = operator.itemgetter(1), reverse=True) # sort lại dựa theo tổng số đặc trưng\n",
        "    return best_matches_dict"
      ],
      "execution_count": null,
      "outputs": []
    },
    {
      "cell_type": "code",
      "metadata": {
        "id": "tkxiYoMmmIrm"
      },
      "source": [
        "def draw_keypoints_matches(fpr1, fpr2):\n",
        "  #vẽ để so sánh 2 ngón tay\n",
        "    kp1, des1 = orb.detectAndCompute(fpr1, None) \n",
        "    kp2, des2 = orb.detectAndCompute(fpr2, None)\n",
        "\n",
        "    matches = bf.match(des1, des2)\n",
        "    matches.sort(key=lambda x: x.distance, reverse=False)\n",
        "    imMatches = cv2.drawMatches(fpr1, kp1, fpr2, kp2,matches[:10], None)\n",
        "\n",
        "    plt.imshow(imMatches)\n",
        "    plt.show()"
      ],
      "execution_count": null,
      "outputs": []
    },
    {
      "cell_type": "markdown",
      "metadata": {
        "id": "FY0Bj3Bug8d2"
      },
      "source": [
        "# 4 Xác minh danh tính\n",
        "\n",
        "Ở đây ta giải quyết bài toán xác minh 1:1."
      ]
    },
    {
      "cell_type": "markdown",
      "metadata": {
        "id": "jzu984y5g8d4"
      },
      "source": [
        "Cho bài toán xác minh danh tính, bộ test_set và valid_set vẫn được giữ nguyên.Còn về bộ train_set (base feature) đã được tính toán, sẽ được chia thành các   dictionaries tách biệt  mà key sẽ tượng trưng cho danh tính của dấu vân tay và mỗi ảnh sẽ tượng trưng cho 1 biểu hiện của dấu vân tay đó."
      ]
    },
    {
      "cell_type": "code",
      "metadata": {
        "id": "B1ts1BS-9yt0"
      },
      "source": [
        "def prepare_dataset_authentication(train_feature_descriptors):\n",
        "    #Chia train_set thành db để chuẩn bị cho việc xác minh danh tính\n",
        "    authentication_databases = {}\n",
        "    temp_list = {}\n",
        "    class_name = get_image_class(list(train_feature_descriptors.keys())[0])  # inital class name\n",
        "    last_key = list(train_feature_descriptors.keys())[-1]\n",
        "\n",
        "    for image_id, feature_descriptor in train_feature_descriptors.items():\n",
        "        if class_name != get_image_class(image_id):\n",
        "            authentication_databases[class_name] = temp_list\n",
        "            temp_list = {}\n",
        "        temp_list[image_id] = feature_descriptor\n",
        "        class_name = get_image_class(image_id)\n",
        "\n",
        "        if last_key == image_id:\n",
        "            authentication_databases[class_name] = temp_list\n",
        "\n",
        "    return authentication_databases\n"
      ],
      "execution_count": null,
      "outputs": []
    },
    {
      "cell_type": "code",
      "metadata": {
        "id": "pz_DuoJkg8d8"
      },
      "source": [
        "def count_same_fprs(feature_distances, len_best_matches):\n",
        "    #tính toán xem có bao nhiêu dấu vân tay qua ngưỡng threshold trong db\n",
        "    count_same = 0\n",
        "    for features in feature_distances:\n",
        "        if int(features[1]) > len_best_matches: \n",
        "            count_same += 1\n",
        "            \n",
        "    return count_same"
      ],
      "execution_count": null,
      "outputs": []
    },
    {
      "cell_type": "code",
      "metadata": {
        "id": "QUe86cARg8d9"
      },
      "source": [
        "def perform_authentication_scenario(dist_threshold, len_best_matches,authentication_databases, test_set_exam):\n",
        "    #thực hiện xác minh danh tính\n",
        "    true_y = []\n",
        "    pred_y = []\n",
        "    total_distances = []\n",
        "    print(\"----- START, threshold = {}, len = {} -----\".format(dist_threshold, len_best_matches))\n",
        "    for authentication_db_key in authentication_databases.keys():\n",
        "        authentication_db = authentication_databases[authentication_db_key]\n",
        "        for test_image_id, test_image in test_set_exam.items():    \n",
        "            best_matches_dict = get_best_matches(test_image, authentication_db, dist_threshold)\n",
        "\n",
        "            count_same = count_same_fprs(best_matches_dict, len_best_matches)\n",
        "            ratio = count_same/len(authentication_db.keys())\n",
        "            test_image_class = get_image_class(test_image_id)\n",
        "            true_class = 1 if test_image_class == authentication_db_key else 0\n",
        "            true_y.append(true_class)\n",
        "            total_distances.append(ratio)\n",
        "            if ratio >= 0.5: \n",
        "                pred_y.append(1)\n",
        "            else:\n",
        "                pred_y.append(0) \n",
        "    accuracy = accuracy_score(true_y, pred_y)\n",
        "    print(\"Accuracy is %f \"%(accuracy_score(true_y, pred_y)))\n",
        "    return accuracy, total_distances,true_y"
      ],
      "execution_count": null,
      "outputs": []
    },
    {
      "cell_type": "markdown",
      "metadata": {
        "id": "Q7ClmSrmg8eF"
      },
      "source": [
        "Tìm trọng số threshold tốt nhất cho việc xác minh"
      ]
    },
    {
      "cell_type": "code",
      "metadata": {
        "id": "bk18zo9yg8eG",
        "scrolled": true
      },
      "source": [
        "def find_optimal_authen(authentication_databases, test_set_exam):\n",
        "  max_acc = 0\n",
        "  for dist_threshold in range(30, 90, 10):\n",
        "    for len_best_matches in range(10,40,5):\n",
        "      temp,_,_ = perform_authentication_scenario(dist_threshold, len_best_matches,authentication_databases, test_set_exam)\n",
        "      if (max_acc <= temp):\n",
        "        optimal_authen = (dist_threshold, len_best_matches)\n",
        "        max_acc = temp\n",
        "  return optimal_authen"
      ],
      "execution_count": null,
      "outputs": []
    },
    {
      "cell_type": "code",
      "metadata": {
        "id": "vUjXckB6hUks"
      },
      "source": [
        "def get_genuine_impostor_scores(all_scores, identical):\n",
        "    \n",
        "    #genuine_score là điểm số khi xác minh đúng\n",
        "    #impostor_score là điểm số khi xác minh sai\n",
        "    genuine_scores = []\n",
        "    impostor_scores = []\n",
        "    for i in range(0, len(all_scores)):\n",
        "        if identical[i] == 1:\n",
        "            genuine_scores.append(all_scores[i])\n",
        "        else:\n",
        "            impostor_scores.append(all_scores[i])\n",
        "\n",
        "    return genuine_scores, impostor_scores"
      ],
      "execution_count": null,
      "outputs": []
    },
    {
      "cell_type": "markdown",
      "metadata": {
        "id": "P10ONnvGg8eN"
      },
      "source": [
        "Để trực quan hóa về kết quả của hệ thống nhận dạng, ta sử dụng ROC curve là đồ thị thể hiện tương quan của 2 độ đo FAR và FRR."
      ]
    },
    {
      "cell_type": "markdown",
      "metadata": {
        "id": "CU58JDUDg8eO"
      },
      "source": [
        "### Trực quan kết quả sử dụng ROC curve  (FAR vs FRR)"
      ]
    },
    {
      "cell_type": "code",
      "metadata": {
        "id": "_VMQrRfI9AVX"
      },
      "source": [
        "def get_roc_curve(frr, far):\n",
        "    plt.title('ROC curve')\n",
        "    x_axis = np.array(far) # False Positive (Accept / Match) Rate\n",
        "    y_axis = np.array(frr) # False Reject Rate = 1 - TPR\n",
        "    plt.plot(x_axis, y_axis) # x, y\n",
        "    plt.xlim([0, 1])\n",
        "    plt.ylim([0, 1])\n",
        "    plt.ylabel('False Reject Rate (FRR)')\n",
        "    plt.xlabel('False Accept Rate (FAR)')\n",
        "    plt.grid(True)\n",
        "    plt.show()"
      ],
      "execution_count": null,
      "outputs": []
    },
    {
      "cell_type": "markdown",
      "metadata": {
        "id": "XHeclAiNG_Ng"
      },
      "source": [
        "# 5 Đánh giá trên dataset fvc2002"
      ]
    },
    {
      "cell_type": "markdown",
      "metadata": {
        "id": "vulAMSfTsOui"
      },
      "source": [
        "FVC2002 được chia làm 4 bộ dataset lần lượt là db1_b, db2_b, db3_b, db4_b.\n",
        "<br>\n",
        "Bởi vì mỗi dataset được thu thập theo 1 cách khác nhau nên ta đánh giá trên từng dataset riêng biệt chứ không gộp chung."
      ]
    },
    {
      "cell_type": "code",
      "metadata": {
        "id": "a_ppFYJ7E2Li"
      },
      "source": [
        "import time\n",
        "\n",
        "# your code here    \n"
      ],
      "execution_count": null,
      "outputs": []
    },
    {
      "cell_type": "markdown",
      "metadata": {
        "id": "5kqe81SSHIXf"
      },
      "source": [
        "##FVC2002"
      ]
    },
    {
      "cell_type": "code",
      "metadata": {
        "id": "WA6Na9wEHOgl"
      },
      "source": [
        "fvc2002 = ['fvc2002/DB1_B','fvc2002/DB2_B', 'fvc2002/DB3_B', 'fvc2002/DB4_B']"
      ],
      "execution_count": null,
      "outputs": []
    },
    {
      "cell_type": "markdown",
      "metadata": {
        "id": "R7Udw_8UklqY"
      },
      "source": [
        "###DB1_B"
      ]
    },
    {
      "cell_type": "code",
      "metadata": {
        "id": "e5je32DIkoC5"
      },
      "source": [
        "image_files = read_images(fvc2002[0])"
      ],
      "execution_count": null,
      "outputs": []
    },
    {
      "cell_type": "code",
      "metadata": {
        "colab": {
          "base_uri": "https://localhost:8080/"
        },
        "id": "tyiJsRs-k3YI",
        "outputId": "94c498fa-0542-4980-97ac-3089f3f7043f"
      },
      "source": [
        "start = time.process_time()\n",
        "train_set,valid_set, test_set = prepare_dataset(image_files)\n",
        "time_1_pre = time.process_time() - start"
      ],
      "execution_count": null,
      "outputs": [
        {
          "output_type": "stream",
          "text": [
            "DONE\n"
          ],
          "name": "stdout"
        }
      ]
    },
    {
      "cell_type": "code",
      "metadata": {
        "id": "0GWfKa0dk4km"
      },
      "source": [
        "start = time.process_time()\n",
        "train_feature_descriptors = get_feature_descriptors(train_set)\n",
        "time_1_extrac = time.process_time() - start"
      ],
      "execution_count": null,
      "outputs": []
    },
    {
      "cell_type": "code",
      "metadata": {
        "id": "i1x7VmmMlXP_"
      },
      "source": [
        "authentication_databases = prepare_dataset_authentication(train_feature_descriptors)"
      ],
      "execution_count": null,
      "outputs": []
    },
    {
      "cell_type": "code",
      "metadata": {
        "colab": {
          "base_uri": "https://localhost:8080/"
        },
        "id": "Al2KYIeIzTWU",
        "outputId": "39fbf680-fd97-4a0a-c56e-8efb25820223"
      },
      "source": [
        "optimal_authen = find_optimal_authen(authentication_databases,valid_set)"
      ],
      "execution_count": null,
      "outputs": [
        {
          "output_type": "stream",
          "text": [
            "----- START, threshold = 30, len = 10 -----\n",
            "Accuracy is 0.900000 \n",
            "----- START, threshold = 30, len = 15 -----\n",
            "Accuracy is 0.900000 \n",
            "----- START, threshold = 30, len = 20 -----\n",
            "Accuracy is 0.900000 \n",
            "----- START, threshold = 30, len = 25 -----\n",
            "Accuracy is 0.900000 \n",
            "----- START, threshold = 30, len = 30 -----\n",
            "Accuracy is 0.900000 \n",
            "----- START, threshold = 30, len = 35 -----\n",
            "Accuracy is 0.900000 \n",
            "----- START, threshold = 40, len = 10 -----\n",
            "Accuracy is 0.900000 \n",
            "----- START, threshold = 40, len = 15 -----\n",
            "Accuracy is 0.900000 \n",
            "----- START, threshold = 40, len = 20 -----\n",
            "Accuracy is 0.900000 \n",
            "----- START, threshold = 40, len = 25 -----\n",
            "Accuracy is 0.900000 \n",
            "----- START, threshold = 40, len = 30 -----\n",
            "Accuracy is 0.900000 \n",
            "----- START, threshold = 40, len = 35 -----\n",
            "Accuracy is 0.900000 \n",
            "----- START, threshold = 50, len = 10 -----\n",
            "Accuracy is 0.905000 \n",
            "----- START, threshold = 50, len = 15 -----\n",
            "Accuracy is 0.915000 \n",
            "----- START, threshold = 50, len = 20 -----\n",
            "Accuracy is 0.915000 \n",
            "----- START, threshold = 50, len = 25 -----\n",
            "Accuracy is 0.900000 \n",
            "----- START, threshold = 50, len = 30 -----\n",
            "Accuracy is 0.900000 \n",
            "----- START, threshold = 50, len = 35 -----\n",
            "Accuracy is 0.900000 \n",
            "----- START, threshold = 60, len = 10 -----\n",
            "Accuracy is 0.390000 \n",
            "----- START, threshold = 60, len = 15 -----\n",
            "Accuracy is 0.685000 \n",
            "----- START, threshold = 60, len = 20 -----\n",
            "Accuracy is 0.815000 \n",
            "----- START, threshold = 60, len = 25 -----\n",
            "Accuracy is 0.890000 \n",
            "----- START, threshold = 60, len = 30 -----\n",
            "Accuracy is 0.915000 \n",
            "----- START, threshold = 60, len = 35 -----\n",
            "Accuracy is 0.920000 \n",
            "----- START, threshold = 70, len = 10 -----\n",
            "Accuracy is 0.100000 \n",
            "----- START, threshold = 70, len = 15 -----\n",
            "Accuracy is 0.110000 \n",
            "----- START, threshold = 70, len = 20 -----\n",
            "Accuracy is 0.145000 \n",
            "----- START, threshold = 70, len = 25 -----\n",
            "Accuracy is 0.255000 \n",
            "----- START, threshold = 70, len = 30 -----\n",
            "Accuracy is 0.425000 \n",
            "----- START, threshold = 70, len = 35 -----\n",
            "Accuracy is 0.675000 \n",
            "----- START, threshold = 80, len = 10 -----\n",
            "Accuracy is 0.100000 \n",
            "----- START, threshold = 80, len = 15 -----\n",
            "Accuracy is 0.100000 \n",
            "----- START, threshold = 80, len = 20 -----\n",
            "Accuracy is 0.100000 \n",
            "----- START, threshold = 80, len = 25 -----\n",
            "Accuracy is 0.100000 \n",
            "----- START, threshold = 80, len = 30 -----\n",
            "Accuracy is 0.100000 \n",
            "----- START, threshold = 80, len = 35 -----\n",
            "Accuracy is 0.100000 \n"
          ],
          "name": "stdout"
        }
      ]
    },
    {
      "cell_type": "code",
      "metadata": {
        "colab": {
          "base_uri": "https://localhost:8080/"
        },
        "id": "0yWozTUSzwih",
        "outputId": "5e167911-6db7-4843-cd6c-f76028e689a4"
      },
      "source": [
        "start = time.process_time()\n",
        "_,distances, identical = perform_authentication_scenario(optimal_authen[0], optimal_authen[1],authentication_databases, test_set)\n",
        "time_1_au = time.process_time() - start"
      ],
      "execution_count": null,
      "outputs": [
        {
          "output_type": "stream",
          "text": [
            "----- START, threshold = 60, len = 35 -----\n",
            "Accuracy is 0.920000 \n"
          ],
          "name": "stdout"
        }
      ]
    },
    {
      "cell_type": "code",
      "metadata": {
        "id": "EmVCOtiaz_Ib"
      },
      "source": [
        "genuine_scores, impostor_scores = get_genuine_impostor_scores(distances, identical)"
      ],
      "execution_count": null,
      "outputs": []
    },
    {
      "cell_type": "code",
      "metadata": {
        "colab": {
          "base_uri": "https://localhost:8080/",
          "height": 312
        },
        "id": "yCDSQhBi0RgS",
        "outputId": "d57a73e8-33cc-426a-a7ec-93acd725d807"
      },
      "source": [
        "stats = get_eer_stats(genuine_scores, impostor_scores)\n",
        "eer = round(stats.eer, 4)\n",
        "print('Equal Error Rate is: {}'.format(eer))\n",
        "get_roc_curve(stats.fnmr, stats.fmr)"
      ],
      "execution_count": null,
      "outputs": [
        {
          "output_type": "stream",
          "text": [
            "Equal Error Rate is: 0.2833\n"
          ],
          "name": "stdout"
        },
        {
          "output_type": "display_data",
          "data": {
            "image/png": "[encoded data removed]",
            "text/plain": [
              "<Figure size 432x288 with 1 Axes>"
            ]
          },
          "metadata": {
            "tags": [],
            "needs_background": "light"
          }
        }
      ]
    },
    {
      "cell_type": "markdown",
      "metadata": {
        "id": "h_cFO3mM-Mqz"
      },
      "source": [
        "###DB2_B"
      ]
    },
    {
      "cell_type": "code",
      "metadata": {
        "id": "u_ezzZXc-Mq0"
      },
      "source": [
        "image_files = read_images(fvc2002[1])"
      ],
      "execution_count": null,
      "outputs": []
    },
    {
      "cell_type": "code",
      "metadata": {
        "colab": {
          "base_uri": "https://localhost:8080/"
        },
        "id": "KVFJak7V-Mq1",
        "outputId": "ee2be580-af30-4488-8fdb-b4acde187af9"
      },
      "source": [
        "start = time.process_time()\n",
        "train_set,valid_set, test_set = prepare_dataset(image_files)\n",
        "time_2_pre = time.process_time() - start"
      ],
      "execution_count": null,
      "outputs": [
        {
          "output_type": "stream",
          "text": [
            "DONE\n"
          ],
          "name": "stdout"
        }
      ]
    },
    {
      "cell_type": "code",
      "metadata": {
        "id": "DaWoGYbs-Mq2"
      },
      "source": [
        "start = time.process_time()\n",
        "train_feature_descriptors = get_feature_descriptors(train_set)\n",
        "time_2_extrac = time.process_time() - start"
      ],
      "execution_count": null,
      "outputs": []
    },
    {
      "cell_type": "code",
      "metadata": {
        "id": "Uc-QWpuF-Mq5"
      },
      "source": [
        "authentication_databases = prepare_dataset_authentication(train_feature_descriptors)"
      ],
      "execution_count": null,
      "outputs": []
    },
    {
      "cell_type": "code",
      "metadata": {
        "colab": {
          "base_uri": "https://localhost:8080/"
        },
        "id": "POQdALvG-Mq6",
        "outputId": "2ac381ac-941b-4258-e705-1ef136604bcc"
      },
      "source": [
        "optimal_authen = find_optimal_authen(authentication_databases,valid_set)"
      ],
      "execution_count": null,
      "outputs": [
        {
          "output_type": "stream",
          "text": [
            "----- START, threshold = 30, len = 10 -----\n",
            "Accuracy is 0.900000 \n",
            "----- START, threshold = 30, len = 15 -----\n",
            "Accuracy is 0.900000 \n",
            "----- START, threshold = 30, len = 20 -----\n",
            "Accuracy is 0.900000 \n",
            "----- START, threshold = 30, len = 25 -----\n",
            "Accuracy is 0.900000 \n",
            "----- START, threshold = 30, len = 30 -----\n",
            "Accuracy is 0.900000 \n",
            "----- START, threshold = 30, len = 35 -----\n",
            "Accuracy is 0.900000 \n",
            "----- START, threshold = 40, len = 10 -----\n",
            "Accuracy is 0.905000 \n",
            "----- START, threshold = 40, len = 15 -----\n",
            "Accuracy is 0.900000 \n",
            "----- START, threshold = 40, len = 20 -----\n",
            "Accuracy is 0.900000 \n",
            "----- START, threshold = 40, len = 25 -----\n",
            "Accuracy is 0.900000 \n",
            "----- START, threshold = 40, len = 30 -----\n",
            "Accuracy is 0.900000 \n",
            "----- START, threshold = 40, len = 35 -----\n",
            "Accuracy is 0.900000 \n",
            "----- START, threshold = 50, len = 10 -----\n",
            "Accuracy is 0.645000 \n",
            "----- START, threshold = 50, len = 15 -----\n",
            "Accuracy is 0.885000 \n",
            "----- START, threshold = 50, len = 20 -----\n",
            "Accuracy is 0.930000 \n",
            "----- START, threshold = 50, len = 25 -----\n",
            "Accuracy is 0.910000 \n",
            "----- START, threshold = 50, len = 30 -----\n",
            "Accuracy is 0.900000 \n",
            "----- START, threshold = 50, len = 35 -----\n",
            "Accuracy is 0.900000 \n",
            "----- START, threshold = 60, len = 10 -----\n",
            "Accuracy is 0.165000 \n",
            "----- START, threshold = 60, len = 15 -----\n",
            "Accuracy is 0.285000 \n",
            "----- START, threshold = 60, len = 20 -----\n",
            "Accuracy is 0.425000 \n",
            "----- START, threshold = 60, len = 25 -----\n",
            "Accuracy is 0.580000 \n",
            "----- START, threshold = 60, len = 30 -----\n",
            "Accuracy is 0.740000 \n",
            "----- START, threshold = 60, len = 35 -----\n",
            "Accuracy is 0.910000 \n",
            "----- START, threshold = 70, len = 10 -----\n",
            "Accuracy is 0.100000 \n",
            "----- START, threshold = 70, len = 15 -----\n",
            "Accuracy is 0.100000 \n",
            "----- START, threshold = 70, len = 20 -----\n",
            "Accuracy is 0.100000 \n",
            "----- START, threshold = 70, len = 25 -----\n",
            "Accuracy is 0.110000 \n",
            "----- START, threshold = 70, len = 30 -----\n",
            "Accuracy is 0.130000 \n",
            "----- START, threshold = 70, len = 35 -----\n",
            "Accuracy is 0.195000 \n",
            "----- START, threshold = 80, len = 10 -----\n",
            "Accuracy is 0.100000 \n",
            "----- START, threshold = 80, len = 15 -----\n",
            "Accuracy is 0.100000 \n",
            "----- START, threshold = 80, len = 20 -----\n",
            "Accuracy is 0.100000 \n",
            "----- START, threshold = 80, len = 25 -----\n",
            "Accuracy is 0.100000 \n",
            "----- START, threshold = 80, len = 30 -----\n",
            "Accuracy is 0.100000 \n",
            "----- START, threshold = 80, len = 35 -----\n",
            "Accuracy is 0.100000 \n"
          ],
          "name": "stdout"
        }
      ]
    },
    {
      "cell_type": "code",
      "metadata": {
        "colab": {
          "base_uri": "https://localhost:8080/"
        },
        "id": "Sbtvl1Yy-Mq7",
        "outputId": "4f529f9d-7e50-4c51-b943-763ccac64da3"
      },
      "source": [
        "start = time.process_time()\n",
        "_,distances, identical = perform_authentication_scenario(optimal_authen[0], optimal_authen[1],authentication_databases, test_set)\n",
        "time_2_au = time.process_time() - start"
      ],
      "execution_count": null,
      "outputs": [
        {
          "output_type": "stream",
          "text": [
            "----- START, threshold = 50, len = 20 -----\n",
            "Accuracy is 0.915000 \n"
          ],
          "name": "stdout"
        }
      ]
    },
    {
      "cell_type": "code",
      "metadata": {
        "id": "gQSPe-7v-MrA"
      },
      "source": [
        "genuine_scores, impostor_scores = get_genuine_impostor_scores(distances, identical)"
      ],
      "execution_count": null,
      "outputs": []
    },
    {
      "cell_type": "code",
      "metadata": {
        "colab": {
          "base_uri": "https://localhost:8080/"
        },
        "id": "8aAhWo4k-MrB",
        "outputId": "609f495b-eb2d-4323-af20-2a1fe5afd560"
      },
      "source": [
        "stats = get_eer_stats(genuine_scores, impostor_scores)\n",
        "eer = round(stats.eer, 4)\n",
        "print('Equal Error Rate is: {}'.format(eer))\n",
        "get_roc_curve(stats.fnmr, stats.fmr)"
      ],
      "execution_count": null,
      "outputs": [
        {
          "output_type": "stream",
          "text": [
            "Equal Error Rate is: 0.1722\n"
          ],
          "name": "stdout"
        },
        {
          "output_type": "display_data",
          "data": {
            "image/png": "[encoded data removed]",
            "text/plain": [
              "<Figure size 432x288 with 1 Axes>"
            ]
          },
          "metadata": {
            "tags": [],
            "needs_background": "light"
          }
        }
      ]
    },
    {
      "cell_type": "markdown",
      "metadata": {
        "id": "nM1we3eC-Unz"
      },
      "source": [
        "###DB3_B"
      ]
    },
    {
      "cell_type": "code",
      "metadata": {
        "id": "eSo6DAe5-Un1"
      },
      "source": [
        "image_files = read_images(fvc2002[2])"
      ],
      "execution_count": null,
      "outputs": []
    },
    {
      "cell_type": "code",
      "metadata": {
        "colab": {
          "base_uri": "https://localhost:8080/"
        },
        "id": "uBSCtjEQ-Un1",
        "outputId": "52726247-7388-4635-dfac-5b1cb83dc5cd"
      },
      "source": [
        "start = time.process_time()\n",
        "train_set,valid_set, test_set = prepare_dataset(image_files)\n",
        "time_3_pre = time.process_time() - start"
      ],
      "execution_count": null,
      "outputs": [
        {
          "output_type": "stream",
          "text": [
            "DONE\n"
          ],
          "name": "stdout"
        }
      ]
    },
    {
      "cell_type": "code",
      "metadata": {
        "id": "8DFHEM-C-Un2"
      },
      "source": [
        "start = time.process_time()\n",
        "train_feature_descriptors = get_feature_descriptors(train_set)\n",
        "time_3_extrac = time.process_time() - start"
      ],
      "execution_count": null,
      "outputs": []
    },
    {
      "cell_type": "code",
      "metadata": {
        "id": "YhZdyg_u-Un5"
      },
      "source": [
        "authentication_databases = prepare_dataset_authentication(train_feature_descriptors)"
      ],
      "execution_count": null,
      "outputs": []
    },
    {
      "cell_type": "code",
      "metadata": {
        "colab": {
          "base_uri": "https://localhost:8080/"
        },
        "id": "cAqtM9g0-Un5",
        "outputId": "3f7ddef5-50a3-48c9-e705-083ff2ac9e2e"
      },
      "source": [
        "optimal_authen = find_optimal_authen(authentication_databases,valid_set)"
      ],
      "execution_count": null,
      "outputs": [
        {
          "output_type": "stream",
          "text": [
            "----- START, threshold = 30, len = 10 -----\n",
            "Accuracy is 0.900000 \n",
            "----- START, threshold = 30, len = 15 -----\n",
            "Accuracy is 0.900000 \n",
            "----- START, threshold = 30, len = 20 -----\n",
            "Accuracy is 0.900000 \n",
            "----- START, threshold = 30, len = 25 -----\n",
            "Accuracy is 0.900000 \n",
            "----- START, threshold = 30, len = 30 -----\n",
            "Accuracy is 0.900000 \n",
            "----- START, threshold = 30, len = 35 -----\n",
            "Accuracy is 0.900000 \n",
            "----- START, threshold = 40, len = 10 -----\n",
            "Accuracy is 0.905000 \n",
            "----- START, threshold = 40, len = 15 -----\n",
            "Accuracy is 0.900000 \n",
            "----- START, threshold = 40, len = 20 -----\n",
            "Accuracy is 0.900000 \n",
            "----- START, threshold = 40, len = 25 -----\n",
            "Accuracy is 0.900000 \n",
            "----- START, threshold = 40, len = 30 -----\n",
            "Accuracy is 0.900000 \n",
            "----- START, threshold = 40, len = 35 -----\n",
            "Accuracy is 0.900000 \n",
            "----- START, threshold = 50, len = 10 -----\n",
            "Accuracy is 0.905000 \n",
            "----- START, threshold = 50, len = 15 -----\n",
            "Accuracy is 0.910000 \n",
            "----- START, threshold = 50, len = 20 -----\n",
            "Accuracy is 0.910000 \n",
            "----- START, threshold = 50, len = 25 -----\n",
            "Accuracy is 0.900000 \n",
            "----- START, threshold = 50, len = 30 -----\n",
            "Accuracy is 0.900000 \n",
            "----- START, threshold = 50, len = 35 -----\n",
            "Accuracy is 0.900000 \n",
            "----- START, threshold = 60, len = 10 -----\n",
            "Accuracy is 0.480000 \n",
            "----- START, threshold = 60, len = 15 -----\n",
            "Accuracy is 0.725000 \n",
            "----- START, threshold = 60, len = 20 -----\n",
            "Accuracy is 0.885000 \n",
            "----- START, threshold = 60, len = 25 -----\n",
            "Accuracy is 0.925000 \n",
            "----- START, threshold = 60, len = 30 -----\n",
            "Accuracy is 0.915000 \n",
            "----- START, threshold = 60, len = 35 -----\n",
            "Accuracy is 0.910000 \n",
            "----- START, threshold = 70, len = 10 -----\n",
            "Accuracy is 0.105000 \n",
            "----- START, threshold = 70, len = 15 -----\n",
            "Accuracy is 0.125000 \n",
            "----- START, threshold = 70, len = 20 -----\n",
            "Accuracy is 0.200000 \n",
            "----- START, threshold = 70, len = 25 -----\n",
            "Accuracy is 0.320000 \n",
            "----- START, threshold = 70, len = 30 -----\n",
            "Accuracy is 0.480000 \n",
            "----- START, threshold = 70, len = 35 -----\n",
            "Accuracy is 0.630000 \n",
            "----- START, threshold = 80, len = 10 -----\n",
            "Accuracy is 0.100000 \n",
            "----- START, threshold = 80, len = 15 -----\n",
            "Accuracy is 0.100000 \n",
            "----- START, threshold = 80, len = 20 -----\n",
            "Accuracy is 0.100000 \n",
            "----- START, threshold = 80, len = 25 -----\n",
            "Accuracy is 0.100000 \n",
            "----- START, threshold = 80, len = 30 -----\n",
            "Accuracy is 0.100000 \n",
            "----- START, threshold = 80, len = 35 -----\n",
            "Accuracy is 0.100000 \n"
          ],
          "name": "stdout"
        }
      ]
    },
    {
      "cell_type": "code",
      "metadata": {
        "colab": {
          "base_uri": "https://localhost:8080/"
        },
        "id": "W9_ernQa-Un6",
        "outputId": "8a7cd394-bde3-4ab5-c129-9d65320c8553"
      },
      "source": [
        "start = time.process_time()\n",
        "_,distances, identical = perform_authentication_scenario(optimal_authen[0], optimal_authen[1],authentication_databases, test_set)\n",
        "time_3_au = time.process_time() - start"
      ],
      "execution_count": null,
      "outputs": [
        {
          "output_type": "stream",
          "text": [
            "----- START, threshold = 60, len = 25 -----\n",
            "Accuracy is 0.905000 \n"
          ],
          "name": "stdout"
        }
      ]
    },
    {
      "cell_type": "code",
      "metadata": {
        "id": "XT8lq6rJ-Un7"
      },
      "source": [
        "genuine_scores, impostor_scores = get_genuine_impostor_scores(distances, identical)"
      ],
      "execution_count": null,
      "outputs": []
    },
    {
      "cell_type": "code",
      "metadata": {
        "colab": {
          "base_uri": "https://localhost:8080/"
        },
        "id": "OAwKcvfp-Un8",
        "outputId": "a28e6f68-140a-415b-a68b-7361d1f5a822"
      },
      "source": [
        "stats = get_eer_stats(genuine_scores, impostor_scores)\n",
        "eer = round(stats.eer, 4)\n",
        "print('Equal Error Rate is: {}'.format(eer))\n",
        "get_roc_curve(stats.fnmr, stats.fmr)"
      ],
      "execution_count": null,
      "outputs": [
        {
          "output_type": "stream",
          "text": [
            "Equal Error Rate is: 0.2861\n"
          ],
          "name": "stdout"
        },
        {
          "output_type": "display_data",
          "data": {
            "image/png": "[encoded data removed]",
            "text/plain": [
              "<Figure size 432x288 with 1 Axes>"
            ]
          },
          "metadata": {
            "tags": [],
            "needs_background": "light"
          }
        }
      ]
    },
    {
      "cell_type": "markdown",
      "metadata": {
        "id": "LzLMR1Sk-dsH"
      },
      "source": [
        "###DB4_B"
      ]
    },
    {
      "cell_type": "code",
      "metadata": {
        "id": "IlWUX2wP-dsI"
      },
      "source": [
        "image_files = read_images(fvc2002[3])"
      ],
      "execution_count": null,
      "outputs": []
    },
    {
      "cell_type": "code",
      "metadata": {
        "colab": {
          "base_uri": "https://localhost:8080/"
        },
        "id": "wxRrJV32-dsJ",
        "outputId": "1aca7b93-c010-4484-852d-9825392bf684"
      },
      "source": [
        "start = time.process_time()\n",
        "train_set,valid_set, test_set = prepare_dataset(image_files)\n",
        "time_4_pre = time.process_time() - start"
      ],
      "execution_count": null,
      "outputs": [
        {
          "output_type": "stream",
          "text": [
            "DONE\n"
          ],
          "name": "stdout"
        }
      ]
    },
    {
      "cell_type": "code",
      "metadata": {
        "id": "9U1MXOiD-dsK"
      },
      "source": [
        "start = time.process_time()\n",
        "train_feature_descriptors = get_feature_descriptors(train_set)\n",
        "time_4_extrac = time.process_time() - start"
      ],
      "execution_count": null,
      "outputs": []
    },
    {
      "cell_type": "code",
      "metadata": {
        "id": "V83OmlBp-dsN"
      },
      "source": [
        "authentication_databases = prepare_dataset_authentication(train_feature_descriptors)"
      ],
      "execution_count": null,
      "outputs": []
    },
    {
      "cell_type": "code",
      "metadata": {
        "colab": {
          "base_uri": "https://localhost:8080/"
        },
        "id": "7N_3_iNx-dsN",
        "outputId": "441f88a8-0c8b-4c2a-b1ca-28da62e0b6a4"
      },
      "source": [
        "optimal_authen = find_optimal_authen(authentication_databases,valid_set)"
      ],
      "execution_count": null,
      "outputs": [
        {
          "output_type": "stream",
          "text": [
            "----- START, threshold = 30, len = 10 -----\n",
            "Accuracy is 0.900000 \n",
            "----- START, threshold = 30, len = 15 -----\n",
            "Accuracy is 0.900000 \n",
            "----- START, threshold = 30, len = 20 -----\n",
            "Accuracy is 0.900000 \n",
            "----- START, threshold = 30, len = 25 -----\n",
            "Accuracy is 0.900000 \n",
            "----- START, threshold = 30, len = 30 -----\n",
            "Accuracy is 0.900000 \n",
            "----- START, threshold = 30, len = 35 -----\n",
            "Accuracy is 0.900000 \n",
            "----- START, threshold = 40, len = 10 -----\n",
            "Accuracy is 0.900000 \n",
            "----- START, threshold = 40, len = 15 -----\n",
            "Accuracy is 0.900000 \n",
            "----- START, threshold = 40, len = 20 -----\n",
            "Accuracy is 0.900000 \n",
            "----- START, threshold = 40, len = 25 -----\n",
            "Accuracy is 0.900000 \n",
            "----- START, threshold = 40, len = 30 -----\n",
            "Accuracy is 0.900000 \n",
            "----- START, threshold = 40, len = 35 -----\n",
            "Accuracy is 0.900000 \n",
            "----- START, threshold = 50, len = 10 -----\n",
            "Accuracy is 0.595000 \n",
            "----- START, threshold = 50, len = 15 -----\n",
            "Accuracy is 0.800000 \n",
            "----- START, threshold = 50, len = 20 -----\n",
            "Accuracy is 0.885000 \n",
            "----- START, threshold = 50, len = 25 -----\n",
            "Accuracy is 0.895000 \n",
            "----- START, threshold = 50, len = 30 -----\n",
            "Accuracy is 0.900000 \n",
            "----- START, threshold = 50, len = 35 -----\n",
            "Accuracy is 0.900000 \n",
            "----- START, threshold = 60, len = 10 -----\n",
            "Accuracy is 0.130000 \n",
            "----- START, threshold = 60, len = 15 -----\n",
            "Accuracy is 0.185000 \n",
            "----- START, threshold = 60, len = 20 -----\n",
            "Accuracy is 0.295000 \n",
            "----- START, threshold = 60, len = 25 -----\n",
            "Accuracy is 0.465000 \n",
            "----- START, threshold = 60, len = 30 -----\n",
            "Accuracy is 0.680000 \n",
            "----- START, threshold = 60, len = 35 -----\n",
            "Accuracy is 0.815000 \n",
            "----- START, threshold = 70, len = 10 -----\n",
            "Accuracy is 0.100000 \n",
            "----- START, threshold = 70, len = 15 -----\n",
            "Accuracy is 0.100000 \n",
            "----- START, threshold = 70, len = 20 -----\n",
            "Accuracy is 0.100000 \n",
            "----- START, threshold = 70, len = 25 -----\n",
            "Accuracy is 0.100000 \n",
            "----- START, threshold = 70, len = 30 -----\n",
            "Accuracy is 0.140000 \n",
            "----- START, threshold = 70, len = 35 -----\n",
            "Accuracy is 0.170000 \n",
            "----- START, threshold = 80, len = 10 -----\n",
            "Accuracy is 0.100000 \n",
            "----- START, threshold = 80, len = 15 -----\n",
            "Accuracy is 0.100000 \n",
            "----- START, threshold = 80, len = 20 -----\n",
            "Accuracy is 0.100000 \n",
            "----- START, threshold = 80, len = 25 -----\n",
            "Accuracy is 0.100000 \n",
            "----- START, threshold = 80, len = 30 -----\n",
            "Accuracy is 0.100000 \n",
            "----- START, threshold = 80, len = 35 -----\n",
            "Accuracy is 0.100000 \n"
          ],
          "name": "stdout"
        }
      ]
    },
    {
      "cell_type": "code",
      "metadata": {
        "colab": {
          "base_uri": "https://localhost:8080/"
        },
        "id": "F7OoMZ1t-dsO",
        "outputId": "50f9799b-8085-4f4d-80b9-5a0811b5bed7"
      },
      "source": [
        "start = time.process_time()\n",
        "_,distances, identical = perform_authentication_scenario(optimal_authen[0], optimal_authen[1],authentication_databases, test_set)\n",
        "time_4_au = time.process_time() - start"
      ],
      "execution_count": null,
      "outputs": [
        {
          "output_type": "stream",
          "text": [
            "----- START, threshold = 50, len = 35 -----\n",
            "Accuracy is 0.900000 \n"
          ],
          "name": "stdout"
        }
      ]
    },
    {
      "cell_type": "code",
      "metadata": {
        "id": "MoKMYOKF-dsP"
      },
      "source": [
        "genuine_scores, impostor_scores = get_genuine_impostor_scores(distances, identical)"
      ],
      "execution_count": null,
      "outputs": []
    },
    {
      "cell_type": "code",
      "metadata": {
        "colab": {
          "base_uri": "https://localhost:8080/"
        },
        "id": "-brSwGwp-dsQ",
        "outputId": "820a7f76-22e2-4580-f85d-8ab34510a063"
      },
      "source": [
        "stats = get_eer_stats(genuine_scores, impostor_scores)\n",
        "eer = round(stats.eer, 4)\n",
        "print('Equal Error Rate is: {}'.format(eer))\n",
        "get_roc_curve(stats.fnmr, stats.fmr)"
      ],
      "execution_count": null,
      "outputs": [
        {
          "output_type": "stream",
          "text": [
            "Equal Error Rate is: 0.475\n"
          ],
          "name": "stdout"
        },
        {
          "output_type": "display_data",
          "data": {
            "image/png": "[encoded data removed]",
            "text/plain": [
              "<Figure size 432x288 with 1 Axes>"
            ]
          },
          "metadata": {
            "tags": [],
            "needs_background": "light"
          }
        }
      ]
    },
    {
      "cell_type": "code",
      "metadata": {
        "colab": {
          "base_uri": "https://localhost:8080/"
        },
        "id": "aKojPO0FG9sp",
        "outputId": "a683e2d0-d0e4-4170-da4b-b8a79ab865a5"
      },
      "source": [
        "print(time_1_pre +time_2_pre + time_3_pre+ time_4_pre)\n",
        "print(time_1_extrac +time_2_extrac + time_3_extrac+ time_4_extrac)\n",
        "print(time_1_au +time_2_au + time_3_au+ time_4_au)"
      ],
      "execution_count": null,
      "outputs": [
        {
          "output_type": "stream",
          "text": [
            "1052.7108217169998\n",
            "1.1689415849995157\n",
            "46.4671445969999\n"
          ],
          "name": "stdout"
        }
      ]
    }
  ]
}